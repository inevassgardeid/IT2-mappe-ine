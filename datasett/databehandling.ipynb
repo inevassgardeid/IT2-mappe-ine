{
 "cells": [
  {
   "attachments": {},
   "cell_type": "markdown",
   "metadata": {},
   "source": [
    "# Standarer for lagring, utveksling og sikring av ulike typer data"
   ]
  },
  {
   "attachments": {},
   "cell_type": "markdown",
   "metadata": {},
   "source": [
    "## Lærplanen sier\n",
    "\n",
    "Mål for opplæringen er at eleven skal kunne:\n",
    "- gjøre rede for standarder for lagring, utveksling og sikring av ulike typer data [[1]](https://www.udir.no/lk20/inf01-02/kompetansemaal-og-vurdering/kv472)"
   ]
  },
  {
   "attachments": {},
   "cell_type": "markdown",
   "metadata": {},
   "source": [
    "### Datasett i Python\n",
    "\n",
    "> En stor samling av data kalles ofte for et datasett"
   ]
  },
  {
   "cell_type": "code",
   "execution_count": 2,
   "metadata": {},
   "outputs": [
    {
     "data": {
      "text/plain": [
       "[<matplotlib.lines.Line2D at 0x114154af0>]"
      ]
     },
     "execution_count": 2,
     "metadata": {},
     "output_type": "execute_result"
    },
    {
     "data": {
      "image/png": "[encoded data removed]",
      "text/plain": [
       "<Figure size 640x480 with 1 Axes>"
      ]
     },
     "metadata": {},
     "output_type": "display_data"
    }
   ],
   "source": [
    "import matplotlib.pyplot as plt\n",
    "\n",
    "fil = open(\"./internet-users.csv\")\n",
    "data = fil.read()\n",
    "linjer = data.split(\"\\n\")\n",
    "\n",
    "brukere = []\n",
    "år = []\n",
    "brukere_prosent = []\n",
    "\n",
    "for linje in linjer[:-1]:\n",
    "    splittet_linje = linje.split(\",\")\n",
    "    if splittet_linje[1] == \"Norway\":\n",
    "        brukere.append(float(splittet_linje[6]))\n",
    "        år.append(int(splittet_linje[3]))\n",
    "        brukere_prosent.append(float(splittet_linje[5]))\n",
    "\n",
    "plt.plot(år, brukere)\n",
    "plt.plot(år, brukere_prosent)\n"
   ]
  },
  {
   "attachments": {},
   "cell_type": "markdown",
   "metadata": {},
   "source": [
    "### Oppgaver\n",
    "\n",
    "1. Hva gjør koden over?\n",
    "    Koden henter brukere fra internet-users.csv. Den splitter listen og deretter henter ut årstallet som ligger plass 3 i listen. Deretter bruker den float for å hente ut et heltall fra plass 6, som beskriver antall brukere det valgte året. Koden plotter antall brukere det er i året i Norge. \n",
    "2. Endre koden slik at plottet viser antall brukere som prosent av befolkningen\n",
    "3. Bruk filen `List of world cities by population density.csv` og finn ut hvilket land som har flest byer på topp-50 listen av byer med høyest befolkningstetthet.\n",
    "4. Bruk filen `AirBnb-Europe.csv` og finn ut hvilken by som er billigst å leie leilighet i"
   ]
  },
  {
   "cell_type": "code",
   "execution_count": 11,
   "metadata": {},
   "outputs": [
    {
     "name": "stdout",
     "output_type": "stream",
     "text": [
      "India\n"
     ]
    }
   ],
   "source": [
    "### Oppgave 3\n",
    "\n",
    "fil = open(\"./List of world cities by population density.csv\")\n",
    "data = fil.read()\n",
    "linjer = data.split(\"\\n\") # splitter innholdet i fila på \"newline/linjeskift\" ->\n",
    "                        # som betyr at \"linjer\" blir en liste, der hver linje i fila er et element\n",
    "\n",
    "liste = []\n",
    "\n",
    "for linje in linjer[:-1]:\n",
    "    splittet_linje = linje.split(\",\")\n",
    "    liste.append(splittet_linje[-1])\n",
    "    \n",
    "høyeste = \"\"\n",
    "høyeste_antall = -1\n",
    "\n",
    "antall = {}\n",
    "\n",
    "for land in liste:\n",
    "    antall = liste.count(land)\n",
    "    if antall > høyeste_antall:\n",
    "        høyeste = land\n",
    "        høyeste_antall = antall\n",
    "\n",
    "print(høyeste)"
   ]
  },
  {
   "cell_type": "code",
   "execution_count": 16,
   "metadata": {},
   "outputs": [
    {
     "name": "stdout",
     "output_type": "stream",
     "text": [
      "34.77933919255534\n"
     ]
    }
   ],
   "source": [
    "### Oppgave 4\n",
    "\n",
    "fil = open(\"./AirBnb-Europe.csv\")\n",
    "data = fil.read()\n",
    "linjer = data.split(\"\\n\")\n",
    "\n",
    "liste = []\n",
    "by = []\n",
    "\n",
    "for linje in linjer[1:-1]:\n",
    "    splittet_liste = linje.split(\",\")\n",
    "    liste.append(float(splittet_liste[1]))\n",
    "    by.append(splittet_liste[0])\n",
    "\n",
    "billigste = 1000000000\n",
    "\n",
    "for pris in liste:\n",
    "    if pris < billigste:\n",
    "        billigste = pris\n",
    "print(billigste)\n",
    "\n"
   ]
  }
 ],
 "metadata": {
  "kernelspec": {
   "display_name": "Python 3",
   "language": "python",
   "name": "python3"
  },
  "language_info": {
   "codemirror_mode": {
    "name": "ipython",
    "version": 3
   },
   "file_extension": ".py",
   "mimetype": "text/x-python",
   "name": "python",
   "nbconvert_exporter": "python",
   "pygments_lexer": "ipython3",
   "version": "3.10.2"
  },
  "orig_nbformat": 4
 },
 "nbformat": 4,
 "nbformat_minor": 2
}
